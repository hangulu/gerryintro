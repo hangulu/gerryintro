{
 "cells": [
  {
   "cell_type": "markdown",
   "metadata": {},
   "source": [
    "# An Introduction to GerryChain\n",
    "\n",
    "GerryChain is a library for using Markov Chain Monte Carlo methods to study the problem of political redistricting. Development of the library began during the Voting Rights Data Institute (VRDI). The project is in active development in the MGGG/GerryChain GitHub repository, where bug reports and feature requests, as well as contributions, are welcome."
   ]
  },
  {
   "cell_type": "markdown",
   "metadata": {},
   "source": [
    "### Installation"
   ]
  },
  {
   "cell_type": "markdown",
   "metadata": {},
   "source": [
    "To install GerryChain from PyPI, just run `pip install gerrychain`.\n",
    "\n",
    "![](pip_install.png)"
   ]
  },
  {
   "cell_type": "markdown",
   "metadata": {},
   "source": [
    "### Documentation\n",
    "If you haven't done so by this point, read the documentation. It lives at https://gerrychain.readthedocs.io/en/latest/, and provides the latest information on the changes of the package, as well as examples and general guidance.\n",
    "\n",
    "![](read_docs.png)"
   ]
  },
  {
   "cell_type": "markdown",
   "metadata": {},
   "source": [
    "### Getting Started\n",
    "The following mirrors the guide found in the documentation.\n",
    "In order to do this, you must first download the MGGG shapefile of Pennsylvania's VTDs from GitHub: https://github.com/mggg-states/PA-shapefiles/blob/master/PA/PA_VTD.zip. Unzip this file and put it in your working directory.\n",
    "\n",
    "![](shapefile_directory.png)"
   ]
  },
  {
   "cell_type": "markdown",
   "metadata": {},
   "source": [
    "### Creating the initial partition\n",
    "In order to run a Markov chain, we need an adjacency Graph of our VTD geometries and Partition of our adjacency graph into districts. This Partition will be the initial state of our Markov chain."
   ]
  },
  {
   "cell_type": "code",
   "execution_count": 28,
   "metadata": {},
   "outputs": [],
   "source": [
    "from gerrychain import Graph, Partition, Election\n",
    "from gerrychain.updaters import Tally, cut_edges\n",
    "\n",
    "graph = Graph.from_file(\"./PA_VTD/PA_VTD.shp\")\n",
    "\n",
    "graph.to_json(\"./PA_VTD.json\")\n",
    "\n",
    "election = Election(\"SEN12\", {\"Dem\": \"USS12D\", \"Rep\": \"USS12R\"})\n",
    "\n",
    "initial_partition = Partition(\n",
    "    graph,\n",
    "    assignment=\"2011_PLA_1\",\n",
    "    updaters={\n",
    "        \"cut_edges\": cut_edges,\n",
    "        \"population\": Tally(\"TOT_POP\", alias=\"population\"),\n",
    "        \"SEN12\": election\n",
    "    }\n",
    ")"
   ]
  },
  {
   "cell_type": "markdown",
   "metadata": {},
   "source": [
    "The above code accomplishes the following:\n",
    "* The `Graph.from_file()` classmethod creates a Graph of the precincts in our shapefile. \n",
    "    * By default, this method copies all of the data columns from the shapefile’s attribute table to the graph object as node attributes. \n",
    "    * The contents of this particular shapefile’s attribute table are summarized in the mggg-states/PA-shapefiles GitHub repo.\n",
    "* Depending on the size of the state, the process of generating an adjacency graph can take a bit of time. To avoid having to repeat this process in the future, we call graph.to_json() to save the graph in the NetworkX json_graph format under the name \"PA_VTD.json.\n",
    "* Next, we configure an `Election` object representing the 2012 Senate election, using the `USS12D` and `USS12R` vote total columns from our shapefile. The first argument is a name for the election (`\"SEN12\"`), and the second argument is a dictionary matching political parties to their vote total columns in our shapefile. This will let us compute hypothetical election results for each districting plan in the ensemble.\n",
    "* Finally, we create a `Partition` of the graph. This will be the starting point for our Markov chain. The Partition class takes three arguments:\n",
    "    1. Graph: the graph generated above\n",
    "    2. Assignment: an assignment of the nodes of the graph into parts of the partition\n",
    "    3. Updaters: a dictionary of possible updater functions"
   ]
  },
  {
   "cell_type": "markdown",
   "metadata": {},
   "source": [
    "### Running a Chain\n",
    "Now, let's configure a short (1000-step) Markov chain for testing. That would be done as follows. Note the `proposal`: `propose_random_flip`. This is one of several proposals for splitting districts as the chain runs, and we'll revisit another, the recombination step, soon. A full description of the chain's parameters is as follows, and in the documentation:\n",
    "\n",
    "* proposal: A function that takes the current state and returns new district assignments (“flips”) for one or more nodes. This comes in the form of a dictionary mapping one or more node IDs to their new district IDs. Here we’ve used the propose_random_flip proposal, which proposes that a random node on the boundary of one district be flipped into the neighboring district.\n",
    "* constraints: A list of binary constraints (functions that take a partition and return True or False) that together define which districting plans. are valid. Here we’ve used just a single constraint, single_flip_contiguous, which checks that each district in the plan is contiguous. This particular constraint is optimized for the single-flip proposal function we are using (hence the name). We could add more constraints to require that districts have nearly-equal population, to impose a bound on the compactness of the districts according to some score, or to prevent districts from splitting more counties than the original plan.\n",
    "* accept: A function that takes a valid proposed state and returns True or False to signal whether the random walk should indeed move to the proposed state. always_accept always accepts valid proposed states. If you want to implement Metropolis-Hastings or any other more sophisticated acceptance criterion, you can specify your own custom acceptance function here.\n",
    "* initial_state: The first state of the random walk.\n",
    "* total_steps: The total number of steps to take. Invalid proposals are not counted toward this total, but rejected (by accept) valid states are."
   ]
  },
  {
   "cell_type": "code",
   "execution_count": 29,
   "metadata": {},
   "outputs": [],
   "source": [
    "from gerrychain import MarkovChain\n",
    "from gerrychain.constraints import single_flip_contiguous\n",
    "from gerrychain.proposals import propose_random_flip\n",
    "from gerrychain.accept import always_accept\n",
    "\n",
    "chain = MarkovChain(\n",
    "    proposal = propose_random_flip,\n",
    "    constraints = [single_flip_contiguous],\n",
    "    accept = always_accept,\n",
    "    initial_state = initial_partition,\n",
    "    total_steps = 1000\n",
    ")"
   ]
  },
  {
   "cell_type": "markdown",
   "metadata": {},
   "source": [
    "The above code configures a Markov chain called `chain`, but does not run it yet. We run the chain by iterating through all of the states using a for loop. As an example, let’s iterate through this chain and print out the sorted vector of Democratic vote percentages in each district for each step in the chain."
   ]
  },
  {
   "cell_type": "code",
   "execution_count": 31,
   "metadata": {},
   "outputs": [],
   "source": [
    "%%capture\n",
    "for partition in chain:\n",
    "    print(sorted(partition[\"SEN12\"].percents(\"Dem\")))"
   ]
  },
  {
   "cell_type": "markdown",
   "metadata": {},
   "source": [
    "To analyze the Republican vote percentages for each districting plan in our ensemble, we’ll want to actually collect the data, and not just print it out. We can use a list comprehension to store these vote percentages, and then convert it into a `pandas` DataFrame."
   ]
  },
  {
   "cell_type": "code",
   "execution_count": 11,
   "metadata": {},
   "outputs": [],
   "source": [
    "import pandas\n",
    "\n",
    "#  Each time you iterate through a chain object, you run a new Markov Chain, just with the same configuration as the object\n",
    "d_percents = [sorted(partition[\"SEN12\"].percents(\"Dem\")) for partition in chain]\n",
    "\n",
    "data = pandas.DataFrame(d_percents)"
   ]
  },
  {
   "cell_type": "markdown",
   "metadata": {},
   "source": [
    "The pandas DataFrame object has many helpful methods for analyzing and plotting data. For example, we can produce a boxplot of our ensemble’s Democratic vote percentage vectors, with the initial 2011 districting plan plotted in red, in just a few lines of code:"
   ]
  },
  {
   "cell_type": "code",
   "execution_count": 12,
   "metadata": {},
   "outputs": [
    {
     "data": {
      "image/png": "[encoded data removed]",
      "text/plain": [
       "<Figure size 432x288 with 1 Axes>"
      ]
     },
     "metadata": {},
     "output_type": "display_data"
    }
   ],
   "source": [
    "import matplotlib.pyplot as plt\n",
    "\n",
    "ax = data.boxplot(positions=range(len(data.columns)))\n",
    "data.iloc[0].plot(style=\"ro\", ax=ax)\n",
    "\n",
    "plt.show()"
   ]
  },
  {
   "cell_type": "markdown",
   "metadata": {},
   "source": [
    "And that's a quick analysis using chain. Now, we'll briefly review recombination steps."
   ]
  },
  {
   "cell_type": "code",
   "execution_count": 15,
   "metadata": {},
   "outputs": [],
   "source": [
    "from gerrychain.tree_proposals import recom\n",
    "from functools import partial"
   ]
  },
  {
   "cell_type": "code",
   "execution_count": 16,
   "metadata": {},
   "outputs": [],
   "source": [
    "from gerrychain import (GeographicPartition, Partition, Graph, MarkovChain,\n",
    "                        proposals, updaters, constraints, accept, Election)"
   ]
  },
  {
   "cell_type": "markdown",
   "metadata": {},
   "source": [
    "Load the adjacency graph we built above:"
   ]
  },
  {
   "cell_type": "code",
   "execution_count": 17,
   "metadata": {},
   "outputs": [],
   "source": [
    "graph = Graph.from_json(\"./PA_VTD.json\")"
   ]
  },
  {
   "cell_type": "markdown",
   "metadata": {},
   "source": [
    "We configure `Election` objects representing some of the election data from our shapefile."
   ]
  },
  {
   "cell_type": "code",
   "execution_count": 18,
   "metadata": {},
   "outputs": [],
   "source": [
    "elections = [\n",
    "    Election(\"SEN10\", {\"Democratic\": \"SEN10D\", \"Republican\": \"SEN10R\"}),\n",
    "    Election(\"SEN12\", {\"Democratic\": \"USS12D\", \"Republican\": \"USS12R\"}),\n",
    "    Election(\"SEN16\", {\"Democratic\": \"T16SEND\", \"Republican\": \"T16SENR\"}),\n",
    "    Election(\"PRES12\", {\"Democratic\": \"PRES12D\", \"Republican\": \"PRES12R\"}),\n",
    "    Election(\"PRES16\", {\"Democratic\": \"T16PRESD\", \"Republican\": \"T16PRESR\"})\n",
    "]"
   ]
  },
  {
   "cell_type": "markdown",
   "metadata": {},
   "source": [
    "### Configure Updaters\n",
    "We want to set up updaters for everything we want to compute for each plan in the ensemble."
   ]
  },
  {
   "cell_type": "code",
   "execution_count": 19,
   "metadata": {},
   "outputs": [],
   "source": [
    "# Population updater, for computing how close to equality the district\n",
    "# populations are. \"TOT_POP\" is the population column from our shapefile.\n",
    "my_updaters = {\"population\": updaters.Tally(\"TOT_POP\", alias=\"population\")}\n",
    "\n",
    "# Election updaters, for computing election results using the vote totals\n",
    "# from our shapefile.\n",
    "election_updaters = {election.name: election for election in elections}\n",
    "my_updaters.update(election_updaters)"
   ]
  },
  {
   "cell_type": "markdown",
   "metadata": {},
   "source": [
    "### Instantiating the Partition\n",
    "We can now instantiate the initial state of our Markov chain, using the 2011 districting plan.\n",
    "\n",
    "`GeographicPartition` comes with built-in `area` and `perimeter` updaters. We do not use them here, but they would allow us to compute compactness scores like Polsby-Popper that depend on these measurements."
   ]
  },
  {
   "cell_type": "code",
   "execution_count": 20,
   "metadata": {},
   "outputs": [],
   "source": [
    "initial_partition = GeographicPartition(graph, assignment=\"2011_PLA_1\", updaters=my_updaters)"
   ]
  },
  {
   "cell_type": "markdown",
   "metadata": {},
   "source": [
    "### Setting Up The Markov Chain\n",
    "\n",
    "#### Proposal\n",
    "First we’ll set up the ReCom proposal. We need to fix some parameters using functools.partial before we can use it as our proposal function.\n",
    "\n",
    "#### Constraints\n",
    "To keep districts about as compact as the original plan, we bound the number of cut edges at 2 times the number of cut edges in the initial plan.\n",
    "\n",
    "#### Configuration\n",
    "Configure the parameters for the chain as above."
   ]
  },
  {
   "cell_type": "code",
   "execution_count": 22,
   "metadata": {},
   "outputs": [],
   "source": [
    "# The ReCom proposal needs to know the ideal population for the districts so that\n",
    "# we can improve speed by bailing early on unbalanced partitions.\n",
    "\n",
    "ideal_population = sum(initial_partition[\"population\"].values()) / len(initial_partition)\n",
    "\n",
    "# We use functools.partial to bind the extra parameters (pop_col, pop_target, epsilon, node_repeats)\n",
    "# of the recom proposal.\n",
    "proposal = partial(recom,\n",
    "                   pop_col=\"TOT_POP\",\n",
    "                   pop_target=ideal_population,\n",
    "                   epsilon=0.02,\n",
    "                   node_repeats=2\n",
    "                  )\n",
    "\n",
    "compactness_bound = constraints.UpperBound(\n",
    "    lambda p: len(p[\"cut_edges\"]),\n",
    "    2*len(initial_partition[\"cut_edges\"])\n",
    ")\n",
    "\n",
    "pop_constraint = constraints.within_percent_of_ideal_population(initial_partition, 0.02)\n",
    "\n",
    "chain = MarkovChain(\n",
    "    proposal=proposal,\n",
    "    constraints=[\n",
    "        pop_constraint,\n",
    "        compactness_bound\n",
    "    ],\n",
    "    accept=accept.always_accept,\n",
    "    initial_state=initial_partition,\n",
    "    total_steps=1000\n",
    ")"
   ]
  },
  {
   "cell_type": "markdown",
   "metadata": {},
   "source": [
    "### Running the Chain\n",
    "Now we’ll run the chain, putting the sorted Democratic vote percentages directly into a `pandas DataFrame` for analysis and plotting. The `DataFrame` will have a row for each state of the chain. The first column of the `DataFrame` will hold the lowest Democratic vote share among the districts in each partition in the chain, the second column will hold the second-lowest Democratic vote shares, and so on."
   ]
  },
  {
   "cell_type": "code",
   "execution_count": null,
   "metadata": {},
   "outputs": [],
   "source": [
    "%%capture\n",
    "# This will take about 10 minutes.\n",
    "\n",
    "data = pandas.DataFrame(\n",
    "    sorted(partition[\"SEN12\"].percents(\"Democratic\"))\n",
    "    for partition in chain\n",
    ")"
   ]
  },
  {
   "cell_type": "markdown",
   "metadata": {},
   "source": [
    "### Create a plot\n",
    "Now we’ll create a box plot similar to those appearing the Virginia report."
   ]
  },
  {
   "cell_type": "code",
   "execution_count": null,
   "metadata": {},
   "outputs": [],
   "source": [
    "%%capture\n",
    "fig, ax = plt.subplots(figsize=(8, 6))\n",
    "\n",
    "# Draw 50% line\n",
    "ax.axhline(0.5, color=\"#cccccc\")\n",
    "\n",
    "# Draw boxplot\n",
    "data.boxplot(ax=ax, positions=range(len(data.columns)))\n",
    "\n",
    "# Draw initial plan's Democratic vote %s (.iloc[0] gives the first row)\n",
    "data.iloc[0].plot(style=\"ro\", ax=ax)\n",
    "\n",
    "# Annotate\n",
    "ax.set_title(\"Comparing the 2011 plan to an ensemble\")\n",
    "ax.set_ylabel(\"Democratic vote % (Senate 2012)\")\n",
    "ax.set_xlabel(\"Sorted districts\")\n",
    "ax.set_ylim(0, 1)\n",
    "ax.set_yticks([0, 0.25, 0.5, 0.75, 1])\n",
    "\n",
    "plt.show()"
   ]
  },
  {
   "cell_type": "markdown",
   "metadata": {},
   "source": [
    "We won't be showing the actual plot here because the chain takes some time to run, but here is what it will look like:\n",
    "\n",
    "![](example_plot.png)"
   ]
  },
  {
   "cell_type": "markdown",
   "metadata": {},
   "source": [
    "## Next Steps\n",
    "Now that we've configured, run, and visualized the output of chains, the following are plausible next steps:\n",
    "* Add, remove, or tweak the constraints\n",
    "* Use a different proposal from GerryChain, or create your own\n",
    "* Perform a similar analysis on a different districting plan for Pennsylvania\n",
    "* Perform a similar analysis on a different state\n",
    "* Compute partisan symmetry scores like Efficiency Gap or Mean-Median, and create a histogram of the scores of the ensemble.\n",
    "* Perform the same analysis using a different election than the 2012 Senate election\n",
    "* Collect Democratic vote percentages for _all_ the elections we set up, instead of just the 2012 Senate election.\n",
    "\n",
    "For more information, be sure to consult the documentation here: https://gerrychain.readthedocs.io/en/latest/index.html"
   ]
  },
  {
   "cell_type": "code",
   "execution_count": null,
   "metadata": {},
   "outputs": [],
   "source": []
  }
 ],
 "metadata": {
  "kernelspec": {
   "display_name": "Python 3",
   "language": "python",
   "name": "python3"
  },
  "language_info": {
   "codemirror_mode": {
    "name": "ipython",
    "version": 3
   },
   "file_extension": ".py",
   "mimetype": "text/x-python",
   "name": "python",
   "nbconvert_exporter": "python",
   "pygments_lexer": "ipython3",
   "version": "3.6.5"
  }
 },
 "nbformat": 4,
 "nbformat_minor": 2
}
